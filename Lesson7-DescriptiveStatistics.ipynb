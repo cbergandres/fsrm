{
 "cells": [
  {
   "cell_type": "markdown",
   "metadata": {},
   "source": [
    "# Lesson 7 : Descriptive Statistics\n",
    "\n",
    "Descriptive Statistics is a branch of statistics that deals with describing the data. We will discuss measures of central tendency followed by measures of dispersion."
   ]
  },
  {
   "cell_type": "markdown",
   "metadata": {},
   "source": [
    "## Measures of Central Tendency"
   ]
  },
  {
   "cell_type": "markdown",
   "metadata": {},
   "source": [
    "### MEAN\n",
    "\n",
    "For example, the following 12 numbers represent the total dollar amount of donations received for each day : 100, 60,70,900, 100, 200, 500, 500, 503, 600, 1000 and 1200. Write a simple formula to calculate the mean."
   ]
  },
  {
   "cell_type": "code",
   "execution_count": 4,
   "metadata": {},
   "outputs": [
    {
     "name": "stdout",
     "output_type": "stream",
     "text": [
      "477.75\n"
     ]
    }
   ],
   "source": [
    "numbers_list = [100,60,70,900,100,200,500,500,503,600,1000,1200]\n",
    "a = sum(numbers_list)\n",
    "b = len(numbers_list)\n",
    "average = a / b\n",
    "print(average)"
   ]
  },
  {
   "cell_type": "markdown",
   "metadata": {},
   "source": [
    "Write a function to calculate the mean."
   ]
  },
  {
   "cell_type": "code",
   "execution_count": 3,
   "metadata": {},
   "outputs": [
    {
     "data": {
      "text/plain": [
       "477.75"
      ]
     },
     "execution_count": 3,
     "metadata": {},
     "output_type": "execute_result"
    }
   ],
   "source": [
    "def mean(numbers):\n",
    "   s = sum(numbers)\n",
    "   N = len(numbers)\n",
    "   mean = s/N    \n",
    "   return mean\n",
    "\n",
    "numbers = [100, 60, 70, 900, 100, 200, 500, 500, 503, 600, 1000, 1200]\n",
    "mean(numbers)"
   ]
  },
  {
   "cell_type": "markdown",
   "metadata": {},
   "source": [
    "### MEDIAN\n",
    "The median of a set of data is simply the middle number. If the length of the list is odd, the middle number is the one in position (N+1)/2. If N is even, the two middle elements are located in N/2 and N/2+1. Using this concept, prepare a program to determine the median of a list of numbers [ 7, 5, 1, 10, 8]"
   ]
  },
  {
   "cell_type": "code",
   "execution_count": 29,
   "metadata": {},
   "outputs": [
    {
     "name": "stdout",
     "output_type": "stream",
     "text": [
      "7\n"
     ]
    }
   ],
   "source": [
    "median_numbers = [7, 5, 1, 10, 8]\n",
    "median_numbers.sort()\n",
    "length = len(median_numbers)\n",
    "\n",
    "if length % 2 == 0 :\n",
    "     m1 = length / 2\n",
    "     m2 = m1 + 1\n",
    "     print((median_numbers[m1]+median_numbers[m2])/2)\n",
    "else:\n",
    "    m3 = (length + 1) / 2 \n",
    "    print(median_numbers[int(m3 - 1)])             ###Note that location3 is converted to a float"
   ]
  },
  {
   "cell_type": "markdown",
   "metadata": {},
   "source": [
    "### MODE\n",
    "Instead of finding the mean value or the median value of a set of numbers, what if you wanted to find the number that occurs most frequently? This number is called the mode. For example we have the following math scores of 20 students : 7, 8, 9, 2, 10, 9, 9, 9, 9, 4, 5, 6, 1, 5, 6, 7, 8, 6, 1 and 10. How do we determine the mode?\n",
    "\n",
    "#### Statistics Library in Python\n",
    "This module provides functions for calculating mathematical statistics of numeric (Real-valued) data."
   ]
  },
  {
   "cell_type": "code",
   "execution_count": 33,
   "metadata": {},
   "outputs": [
    {
     "data": {
      "text/plain": [
       "9"
      ]
     },
     "execution_count": 33,
     "metadata": {},
     "output_type": "execute_result"
    }
   ],
   "source": [
    "import statistics\n",
    "\n",
    "mode_numbers = [7, 8, 9, 2, 10, 9, 9, 9, 9, 4, 5, 6, 1, 5, 6, 7, 8, 6, 1, 10]\n",
    "statistics.mode(mode_numbers)"
   ]
  },
  {
   "cell_type": "markdown",
   "metadata": {},
   "source": [
    "The Statistics library can also be used to calculate mean and median."
   ]
  },
  {
   "cell_type": "code",
   "execution_count": 34,
   "metadata": {},
   "outputs": [
    {
     "data": {
      "text/plain": [
       "6.55"
      ]
     },
     "execution_count": 34,
     "metadata": {},
     "output_type": "execute_result"
    }
   ],
   "source": [
    "import statistics\n",
    "\n",
    "mean_numbers = [7, 8, 9, 2, 10, 9, 9, 9, 9, 4, 5, 6, 1, 5, 6, 7, 8, 6, 1, 10]\n",
    "statistics.mean(mode_numbers)"
   ]
  },
  {
   "cell_type": "code",
   "execution_count": 35,
   "metadata": {},
   "outputs": [
    {
     "data": {
      "text/plain": [
       "7.0"
      ]
     },
     "execution_count": 35,
     "metadata": {},
     "output_type": "execute_result"
    }
   ],
   "source": [
    "import statistics\n",
    "\n",
    "median_numbers = [7, 8, 9, 2, 10, 9, 9, 9, 9, 4, 5, 6, 1, 5, 6, 7, 8, 6, 1, 10]\n",
    "statistics.median(mode_numbers)"
   ]
  },
  {
   "cell_type": "markdown",
   "metadata": {},
   "source": [
    "## Measures of Dispersion"
   ]
  },
  {
   "cell_type": "markdown",
   "metadata": {},
   "source": [
    "### RANGE\n",
    "To find the range you can use python min() and max() functions. For example, calculate the range with the following numbers of donations. 100, 60, 70, 900, 100, 200, 500, 500, 503, 600, 1000 and 1200."
   ]
  },
  {
   "cell_type": "code",
   "execution_count": 2,
   "metadata": {},
   "outputs": [
    {
     "data": {
      "text/plain": [
       "1140"
      ]
     },
     "execution_count": 2,
     "metadata": {},
     "output_type": "execute_result"
    }
   ],
   "source": [
    "range_numbers = [100, 60, 70, 900, 100, 200, 500, 500, 503, 600, 1000 ,1200]\n",
    "max(range_numbers) - min(range_numbers)"
   ]
  },
  {
   "cell_type": "markdown",
   "metadata": {},
   "source": [
    "### VARIANCE and STANDARD DEVIATION\n",
    "The statistics library contains basic statistical tools for variance and standard deviation.\n",
    "\n",
    "                            pstdev() - population standard deviation\n",
    "                            pvariance() - population variance\n",
    "                            stdev() - sample standard deviation\n",
    "                            variance() - sample variance\n",
    "                            \n",
    "Consider the same number of donations from above, calculate the population variance and standard deviation."
   ]
  },
  {
   "cell_type": "code",
   "execution_count": 12,
   "metadata": {},
   "outputs": [
    {
     "name": "stdout",
     "output_type": "stream",
     "text": [
      "141047.35416666666\n",
      "375.5627166887931\n"
     ]
    }
   ],
   "source": [
    "import statistics\n",
    "\n",
    "range_numbers = [100, 60, 70, 900, 100, 200, 500, 500, 503, 600, 1000 ,1200]\n",
    "\n",
    "print(statistics.pvariance(range_numbers))\n",
    "print(statistics.pstdev(range_numbers))"
   ]
  },
  {
   "cell_type": "markdown",
   "metadata": {},
   "source": [
    "### CORRELATION\n",
    "Correlation tells us the nature and strength of the relationship between two numbers. For this we can use the numpy library with CORRCOEF method. Consider the following sets of data.\n",
    "\n",
    "                                list1 = [1, 2, 3]\n",
    "                                list2 = [4, 5, 6]"
   ]
  },
  {
   "cell_type": "code",
   "execution_count": 15,
   "metadata": {},
   "outputs": [
    {
     "data": {
      "text/plain": [
       "array([[ 1., -1.],\n",
       "       [-1.,  1.]])"
      ]
     },
     "execution_count": 15,
     "metadata": {},
     "output_type": "execute_result"
    }
   ],
   "source": [
    "list1 = [3,2,1]\n",
    "list2 = [4,5,6]\n",
    "\n",
    "import numpy as np\n",
    "np.corrcoef(list1,list2)"
   ]
  }
 ],
 "metadata": {
  "kernelspec": {
   "display_name": "Python 3",
   "language": "python",
   "name": "python3"
  },
  "language_info": {
   "codemirror_mode": {
    "name": "ipython",
    "version": 3
   },
   "file_extension": ".py",
   "mimetype": "text/x-python",
   "name": "python",
   "nbconvert_exporter": "python",
   "pygments_lexer": "ipython3",
   "version": "3.7.3"
  }
 },
 "nbformat": 4,
 "nbformat_minor": 2
}
