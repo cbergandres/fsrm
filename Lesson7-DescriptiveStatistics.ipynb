{
 "cells": [
  {
   "cell_type": "markdown",
   "metadata": {},
   "source": [
    "# Lesson 7 : Descriptive Statistics\n",
    "\n",
    "Descriptive Statistics is a branch of statistics that deals with describing the data. We will discuss measures of central tendency followed by measures of dispersion."
   ]
  },
  {
   "cell_type": "markdown",
   "metadata": {},
   "source": [
    "## Measures of Central Tendency"
   ]
  },
  {
   "cell_type": "markdown",
   "metadata": {},
   "source": [
    "### MEAN\n",
    "\n",
    "For example, the following 12 numbers represent the total dollar amount of donations received for each day : 100, 60,70,900, 100, 200, 500, 500, 503, 600, 1000 and 1200. Write a simple formula to calculate the mean."
   ]
  },
  {
   "cell_type": "code",
   "execution_count": 1,
   "metadata": {},
   "outputs": [
    {
     "name": "stdout",
     "output_type": "stream",
     "text": [
      "477.75\n"
     ]
    }
   ],
   "source": [
    "numbers_list = [100,60,70,900,100,200,500,500,503,600,1000,1200]\n",
    "a = sum(numbers_list)\n",
    "b = len(numbers_list)\n",
    "average = a / b\n",
    "print(average)"
   ]
  },
  {
   "cell_type": "markdown",
   "metadata": {},
   "source": [
    "Write a function to calculate the mean."
   ]
  },
  {
   "cell_type": "code",
   "execution_count": 2,
   "metadata": {},
   "outputs": [
    {
     "data": {
      "text/plain": [
       "477.75"
      ]
     },
     "execution_count": 2,
     "metadata": {},
     "output_type": "execute_result"
    }
   ],
   "source": [
    "def mean(numbers):\n",
    "   s = sum(numbers)\n",
    "   N = len(numbers)\n",
    "   mean = s/N    \n",
    "   return mean\n",
    "\n",
    "numbers = [100, 60, 70, 900, 100, 200, 500, 500, 503, 600, 1000, 1200]\n",
    "mean(numbers)"
   ]
  },
  {
   "cell_type": "markdown",
   "metadata": {},
   "source": [
    "### MEDIAN\n",
    "The median of a set of data is simply the middle number. If the length of the list is odd, the middle number is the one in position (N+1)/2. If N is even, the two middle elements are located in N/2 and N/2+1. Using this concept, prepare a program to determine the median of a list of numbers [ 7, 5, 1, 10, 8]"
   ]
  },
  {
   "cell_type": "code",
   "execution_count": 3,
   "metadata": {},
   "outputs": [
    {
     "name": "stdout",
     "output_type": "stream",
     "text": [
      "7\n"
     ]
    }
   ],
   "source": [
    "median_numbers = [7, 5, 1, 10, 8]\n",
    "median_numbers.sort()\n",
    "length = len(median_numbers)\n",
    "\n",
    "if length % 2 == 0 :\n",
    "     m1 = length / 2\n",
    "     m2 = m1 + 1\n",
    "     print((median_numbers[m1]+median_numbers[m2])/2)\n",
    "else:\n",
    "    m3 = (length + 1) / 2 \n",
    "    print(median_numbers[int(m3 - 1)])             ###Note that location3 is converted to a float"
   ]
  },
  {
   "cell_type": "markdown",
   "metadata": {},
   "source": [
    "### MODE\n",
    "Instead of finding the mean value or the median value of a set of numbers, what if you wanted to find the number that occurs most frequently? This number is called the mode. For example we have the following math scores of 20 students : 7, 8, 9, 2, 10, 9, 9, 9, 9, 4, 5, 6, 1, 5, 6, 7, 8, 6, 1 and 10. How do we determine the mode?\n",
    "\n",
    "#### Statistics Library in Python\n",
    "This module provides functions for calculating mathematical statistics of numeric (Real-valued) data."
   ]
  },
  {
   "cell_type": "code",
   "execution_count": 4,
   "metadata": {},
   "outputs": [
    {
     "data": {
      "text/plain": [
       "9"
      ]
     },
     "execution_count": 4,
     "metadata": {},
     "output_type": "execute_result"
    }
   ],
   "source": [
    "import statistics\n",
    "\n",
    "mode_numbers = [7, 8, 9, 2, 10, 9, 9, 9, 9, 4, 5, 6, 1, 5, 6, 7, 8, 6, 1, 10]\n",
    "statistics.mode(mode_numbers)"
   ]
  },
  {
   "cell_type": "markdown",
   "metadata": {},
   "source": [
    "The Statistics library can also be used to calculate mean and median."
   ]
  },
  {
   "cell_type": "code",
   "execution_count": 5,
   "metadata": {},
   "outputs": [
    {
     "data": {
      "text/plain": [
       "6.55"
      ]
     },
     "execution_count": 5,
     "metadata": {},
     "output_type": "execute_result"
    }
   ],
   "source": [
    "import statistics\n",
    "\n",
    "mean_numbers = [7, 8, 9, 2, 10, 9, 9, 9, 9, 4, 5, 6, 1, 5, 6, 7, 8, 6, 1, 10]\n",
    "statistics.mean(mode_numbers)"
   ]
  },
  {
   "cell_type": "code",
   "execution_count": 6,
   "metadata": {},
   "outputs": [
    {
     "data": {
      "text/plain": [
       "7.0"
      ]
     },
     "execution_count": 6,
     "metadata": {},
     "output_type": "execute_result"
    }
   ],
   "source": [
    "import statistics\n",
    "\n",
    "median_numbers = [7, 8, 9, 2, 10, 9, 9, 9, 9, 4, 5, 6, 1, 5, 6, 7, 8, 6, 1, 10]\n",
    "statistics.median(mode_numbers)"
   ]
  },
  {
   "cell_type": "markdown",
   "metadata": {},
   "source": [
    "## Measures of Dispersion"
   ]
  },
  {
   "cell_type": "markdown",
   "metadata": {},
   "source": [
    "### RANGE\n",
    "To find the range you can use python min() and max() functions. For example, calculate the range with the following numbers of donations. 100, 60, 70, 900, 100, 200, 500, 500, 503, 600, 1000 and 1200."
   ]
  },
  {
   "cell_type": "code",
   "execution_count": 7,
   "metadata": {},
   "outputs": [
    {
     "data": {
      "text/plain": [
       "1140"
      ]
     },
     "execution_count": 7,
     "metadata": {},
     "output_type": "execute_result"
    }
   ],
   "source": [
    "range_numbers = [100, 60, 70, 900, 100, 200, 500, 500, 503, 600, 1000 ,1200]\n",
    "max(range_numbers) - min(range_numbers)"
   ]
  },
  {
   "cell_type": "markdown",
   "metadata": {},
   "source": [
    "### VARIANCE and STANDARD DEVIATION\n",
    "The statistics library contains basic statistical tools for variance and standard deviation.\n",
    "\n",
    "                            pstdev() - population standard deviation\n",
    "                            pvariance() - population variance\n",
    "                            stdev() - sample standard deviation\n",
    "                            variance() - sample variance\n",
    "                            \n",
    "Consider the same number of donations from above, calculate the population variance and standard deviation."
   ]
  },
  {
   "cell_type": "code",
   "execution_count": 8,
   "metadata": {},
   "outputs": [
    {
     "name": "stdout",
     "output_type": "stream",
     "text": [
      "141047.35416666666\n",
      "375.5627166887931\n"
     ]
    }
   ],
   "source": [
    "import statistics\n",
    "\n",
    "range_numbers = [100, 60, 70, 900, 100, 200, 500, 500, 503, 600, 1000 ,1200]\n",
    "\n",
    "print(statistics.pvariance(range_numbers))\n",
    "print(statistics.pstdev(range_numbers))"
   ]
  },
  {
   "cell_type": "markdown",
   "metadata": {},
   "source": [
    "### CORRELATION\n",
    "Correlation tells us the nature and strength of the relationship between two numbers. For this we can use the numpy library with CORRCOEF method. Consider the following sets of data.\n",
    "\n",
    "                                list1 = [1, 2, 3]\n",
    "                                list2 = [4, 5, 6]"
   ]
  },
  {
   "cell_type": "code",
   "execution_count": 9,
   "metadata": {},
   "outputs": [
    {
     "data": {
      "text/plain": [
       "array([[ 1., -1.],\n",
       "       [-1.,  1.]])"
      ]
     },
     "execution_count": 9,
     "metadata": {},
     "output_type": "execute_result"
    }
   ],
   "source": [
    "list1 = [3,2,1]\n",
    "list2 = [4,5,6]\n",
    "\n",
    "import numpy as np\n",
    "np.corrcoef(list1,list2)"
   ]
  },
  {
   "cell_type": "markdown",
   "metadata": {},
   "source": [
    "## Reading from a file\n",
    "Majority of our exercises are lists that are hardcoded. In actual situation, we will be using large amount of data and these data will be coming from a CSV file. Therefore, it is necessary for us to learn how to manipulate CSV files in Python. To read a CSV file, import pandas as pd and then use read_csv medthod to read the CSV file."
   ]
  },
  {
   "cell_type": "code",
   "execution_count": 10,
   "metadata": {},
   "outputs": [
    {
     "data": {
      "text/html": [
       "<div>\n",
       "<style scoped>\n",
       "    .dataframe tbody tr th:only-of-type {\n",
       "        vertical-align: middle;\n",
       "    }\n",
       "\n",
       "    .dataframe tbody tr th {\n",
       "        vertical-align: top;\n",
       "    }\n",
       "\n",
       "    .dataframe thead th {\n",
       "        text-align: right;\n",
       "    }\n",
       "</style>\n",
       "<table border=\"1\" class=\"dataframe\">\n",
       "  <thead>\n",
       "    <tr style=\"text-align: right;\">\n",
       "      <th></th>\n",
       "      <th>paticulars_1</th>\n",
       "      <th>paticulars_2</th>\n",
       "      <th>paticulars_3</th>\n",
       "      <th>march_2014</th>\n",
       "      <th>june_2014</th>\n",
       "      <th>september_2014</th>\n",
       "      <th>Unnamed: 6</th>\n",
       "      <th>Unnamed: 7</th>\n",
       "    </tr>\n",
       "  </thead>\n",
       "  <tbody>\n",
       "    <tr>\n",
       "      <th>0</th>\n",
       "      <td>Philippine Banking System</td>\n",
       "      <td>Total Auto Loans (AL)</td>\n",
       "      <td>Total Auto Loans (AL)</td>\n",
       "      <td>194.440</td>\n",
       "      <td>207.130</td>\n",
       "      <td>218.320</td>\n",
       "      <td>NaN</td>\n",
       "      <td>NaN</td>\n",
       "    </tr>\n",
       "    <tr>\n",
       "      <th>1</th>\n",
       "      <td>Philippine Banking System</td>\n",
       "      <td>Total Auto Loans (AL)</td>\n",
       "      <td>Performing</td>\n",
       "      <td>186.130</td>\n",
       "      <td>198.300</td>\n",
       "      <td>208.790</td>\n",
       "      <td>NaN</td>\n",
       "      <td>NaN</td>\n",
       "    </tr>\n",
       "    <tr>\n",
       "      <th>2</th>\n",
       "      <td>Philippine Banking System</td>\n",
       "      <td>Total Auto Loans (AL)</td>\n",
       "      <td>Non-Performing</td>\n",
       "      <td>8.320</td>\n",
       "      <td>8.820</td>\n",
       "      <td>9.530</td>\n",
       "      <td>NaN</td>\n",
       "      <td>NaN</td>\n",
       "    </tr>\n",
       "    <tr>\n",
       "      <th>3</th>\n",
       "      <td>Philippine Banking System</td>\n",
       "      <td>Total Loan Portfolio (TLP), net of Interbank L...</td>\n",
       "      <td>Total Loan Portfolio (TLP), net of Interbank L...</td>\n",
       "      <td>4750.911</td>\n",
       "      <td>4943.443</td>\n",
       "      <td>5186.304</td>\n",
       "      <td>NaN</td>\n",
       "      <td>NaN</td>\n",
       "    </tr>\n",
       "    <tr>\n",
       "      <th>4</th>\n",
       "      <td>Philippine Banking System</td>\n",
       "      <td>Total Non-Performing Loans (NPL)</td>\n",
       "      <td>Total Non-Performing Loans (NPL)</td>\n",
       "      <td>123.663</td>\n",
       "      <td>125.171</td>\n",
       "      <td>128.070</td>\n",
       "      <td>NaN</td>\n",
       "      <td>NaN</td>\n",
       "    </tr>\n",
       "  </tbody>\n",
       "</table>\n",
       "</div>"
      ],
      "text/plain": [
       "                paticulars_1  \\\n",
       "0  Philippine Banking System   \n",
       "1  Philippine Banking System   \n",
       "2  Philippine Banking System   \n",
       "3  Philippine Banking System   \n",
       "4  Philippine Banking System   \n",
       "\n",
       "                                        paticulars_2  \\\n",
       "0                              Total Auto Loans (AL)   \n",
       "1                              Total Auto Loans (AL)   \n",
       "2                              Total Auto Loans (AL)   \n",
       "3  Total Loan Portfolio (TLP), net of Interbank L...   \n",
       "4                   Total Non-Performing Loans (NPL)   \n",
       "\n",
       "                                        paticulars_3  march_2014  june_2014  \\\n",
       "0                              Total Auto Loans (AL)     194.440    207.130   \n",
       "1                                         Performing     186.130    198.300   \n",
       "2                                     Non-Performing       8.320      8.820   \n",
       "3  Total Loan Portfolio (TLP), net of Interbank L...    4750.911   4943.443   \n",
       "4                   Total Non-Performing Loans (NPL)     123.663    125.171   \n",
       "\n",
       "   september_2014  Unnamed: 6  Unnamed: 7  \n",
       "0         218.320         NaN         NaN  \n",
       "1         208.790         NaN         NaN  \n",
       "2           9.530         NaN         NaN  \n",
       "3        5186.304         NaN         NaN  \n",
       "4         128.070         NaN         NaN  "
      ]
     },
     "execution_count": 10,
     "metadata": {},
     "output_type": "execute_result"
    }
   ],
   "source": [
    "import pandas as pd\n",
    "import numpy as np\n",
    "import matplotlib.pyplot as plt\n",
    "\n",
    "data = pd.read_csv('autoloanPH.csv')\n",
    "data.head()"
   ]
  },
  {
   "cell_type": "code",
   "execution_count": 11,
   "metadata": {},
   "outputs": [
    {
     "data": {
      "text/plain": [
       "0.17"
      ]
     },
     "execution_count": 11,
     "metadata": {},
     "output_type": "execute_result"
    }
   ],
   "source": [
    "min(data[\"march_2014\"])"
   ]
  },
  {
   "cell_type": "code",
   "execution_count": 12,
   "metadata": {},
   "outputs": [
    {
     "data": {
      "text/plain": [
       "4750.911"
      ]
     },
     "execution_count": 12,
     "metadata": {},
     "output_type": "execute_result"
    }
   ],
   "source": [
    "max(data[\"march_2014\"])"
   ]
  },
  {
   "cell_type": "code",
   "execution_count": 13,
   "metadata": {},
   "outputs": [
    {
     "data": {
      "text/plain": [
       "391.5989259259259"
      ]
     },
     "execution_count": 13,
     "metadata": {},
     "output_type": "execute_result"
    }
   ],
   "source": [
    "import statistics\n",
    "statistics.mean(data[\"march_2014\"])"
   ]
  },
  {
   "cell_type": "code",
   "execution_count": 14,
   "metadata": {},
   "outputs": [
    {
     "data": {
      "text/plain": [
       "7.16"
      ]
     },
     "execution_count": 14,
     "metadata": {},
     "output_type": "execute_result"
    }
   ],
   "source": [
    "import statistics\n",
    "statistics.median(data[\"march_2014\"])"
   ]
  },
  {
   "cell_type": "code",
   "execution_count": 20,
   "metadata": {},
   "outputs": [
    {
     "data": {
      "image/png": "[encoded data removed]",
      "text/plain": [
       "<Figure size 432x288 with 1 Axes>"
      ]
     },
     "metadata": {
      "needs_background": "light"
     },
     "output_type": "display_data"
    }
   ],
   "source": [
    "import matplotlib.pyplot as plt\n",
    "import pandas as pd\n",
    "\n",
    "data = pd.read_csv('temperature_data.csv')\n",
    "\n",
    "temp2000 = (data[\"2000\"])\n",
    "temp2001 = (data[\"2001\"])\n",
    "temp2002 = (data[\"2002\"])\n",
    "\n",
    "months = range(1,13)\n",
    "plt.plot(months,temp2000,months,temp2001,months,temp2002)\n",
    "plt.legend([2000,2001,2002])\n",
    "\n",
    "plt.show()"
   ]
  }
 ],
 "metadata": {
  "kernelspec": {
   "display_name": "Python 3",
   "language": "python",
   "name": "python3"
  },
  "language_info": {
   "codemirror_mode": {
    "name": "ipython",
    "version": 3
   },
   "file_extension": ".py",
   "mimetype": "text/x-python",
   "name": "python",
   "nbconvert_exporter": "python",
   "pygments_lexer": "ipython3",
   "version": "3.7.3"
  }
 },
 "nbformat": 4,
 "nbformat_minor": 2
}
