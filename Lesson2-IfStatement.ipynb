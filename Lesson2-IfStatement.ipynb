{
 "cells": [
  {
   "cell_type": "markdown",
   "metadata": {},
   "source": [
    "# Lesson 2 : If Statement"
   ]
  },
  {
   "cell_type": "markdown",
   "metadata": {},
   "source": [
    " ## Inequalities"
   ]
  },
  {
   "cell_type": "markdown",
   "metadata": {},
   "source": [
    "Python also recognizes test for inequalities for equal (==), greater than (>), less than (<), not equal (!=), greater than or equal (>=) and less than or equal (<=). It will return either TRUE or FALSE."
   ]
  },
  {
   "cell_type": "code",
   "execution_count": 5,
   "metadata": {},
   "outputs": [
    {
     "data": {
      "text/plain": [
       "True"
      ]
     },
     "execution_count": 5,
     "metadata": {},
     "output_type": "execute_result"
    }
   ],
   "source": [
    "\"samsung\" == \"samsung\""
   ]
  },
  {
   "cell_type": "code",
   "execution_count": 6,
   "metadata": {},
   "outputs": [
    {
     "data": {
      "text/plain": [
       "False"
      ]
     },
     "execution_count": 6,
     "metadata": {},
     "output_type": "execute_result"
    }
   ],
   "source": [
    "\"Samsung\" == \"samsung\""
   ]
  },
  {
   "cell_type": "code",
   "execution_count": 7,
   "metadata": {},
   "outputs": [
    {
     "data": {
      "text/plain": [
       "False"
      ]
     },
     "execution_count": 7,
     "metadata": {},
     "output_type": "execute_result"
    }
   ],
   "source": [
    "\"samsung\" != \"samsung\""
   ]
  },
  {
   "cell_type": "code",
   "execution_count": 8,
   "metadata": {},
   "outputs": [
    {
     "data": {
      "text/plain": [
       "True"
      ]
     },
     "execution_count": 8,
     "metadata": {},
     "output_type": "execute_result"
    }
   ],
   "source": [
    "\"Samsung\" != \"samsung\""
   ]
  },
  {
   "cell_type": "code",
   "execution_count": 10,
   "metadata": {},
   "outputs": [
    {
     "data": {
      "text/plain": [
       "False"
      ]
     },
     "execution_count": 10,
     "metadata": {},
     "output_type": "execute_result"
    }
   ],
   "source": [
    "8 == 9"
   ]
  },
  {
   "cell_type": "code",
   "execution_count": 11,
   "metadata": {},
   "outputs": [
    {
     "data": {
      "text/plain": [
       "False"
      ]
     },
     "execution_count": 11,
     "metadata": {},
     "output_type": "execute_result"
    }
   ],
   "source": [
    "8 > 9"
   ]
  },
  {
   "cell_type": "code",
   "execution_count": 13,
   "metadata": {},
   "outputs": [
    {
     "data": {
      "text/plain": [
       "True"
      ]
     },
     "execution_count": 13,
     "metadata": {},
     "output_type": "execute_result"
    }
   ],
   "source": [
    "10 < 15"
   ]
  },
  {
   "cell_type": "code",
   "execution_count": 14,
   "metadata": {},
   "outputs": [
    {
     "data": {
      "text/plain": [
       "True"
      ]
     },
     "execution_count": 14,
     "metadata": {},
     "output_type": "execute_result"
    }
   ],
   "source": [
    "8 >= 8"
   ]
  },
  {
   "cell_type": "code",
   "execution_count": 15,
   "metadata": {
    "scrolled": true
   },
   "outputs": [
    {
     "data": {
      "text/plain": [
       "True"
      ]
     },
     "execution_count": 15,
     "metadata": {},
     "output_type": "execute_result"
    }
   ],
   "source": [
    "9 <= 9"
   ]
  },
  {
   "cell_type": "markdown",
   "metadata": {},
   "source": [
    "## Conditional Tests\n",
    "\n",
    "At the heart of every IF statement is an expression that can be evaluated as TRUE or FALSE and is called a conditional tests. Python uses TRUE and FALSE to decide whether the code in an IF statement should be executed. If a conditional test evaluates a TRUE, Python executes the code following the IF statement. If the test evaluates to FALSE, Python ignores the code following the IF statement."
   ]
  },
  {
   "cell_type": "code",
   "execution_count": 9,
   "metadata": {},
   "outputs": [
    {
     "name": "stdout",
     "output_type": "stream",
     "text": [
      "Hold the caramel!\n"
     ]
    }
   ],
   "source": [
    "starbucks_drink = \"caramel\"\n",
    "\n",
    "if starbucks_drink == \"caramel\":\n",
    "\tprint(\"Hold the caramel!\")"
   ]
  },
  {
   "cell_type": "code",
   "execution_count": 3,
   "metadata": {},
   "outputs": [
    {
     "name": "stdout",
     "output_type": "stream",
     "text": [
      "You are of legal age\n"
     ]
    }
   ],
   "source": [
    "age = 170\n",
    "\n",
    "if age >= 18:\n",
    "    print(\"You are of legal age\")"
   ]
  },
  {
   "cell_type": "code",
   "execution_count": 4,
   "metadata": {},
   "outputs": [],
   "source": [
    "age = 15\n",
    "\n",
    "if age >= 18:\n",
    "    print(\"You are of legal age\")"
   ]
  },
  {
   "cell_type": "markdown",
   "metadata": {},
   "source": [
    "## Checking multiple conditions\n",
    "You may want to check multiple conditions at the same time. For example, sometimes you might need two conditions to be TRUE to take an action. Other times you might be satisfied with just one condition being TRUE. The keywods AND and OR can help you in these situtations.\n",
    "\n",
    "### Using AND to check multiple conditions\n",
    "To check whether two conditions are both TRUE simultaneously, use the keyword AND to combine two conditional tests: if each test passes, the overall expression evaluates to TRUE. If either test fails or if both test fail, the expression evaluates to FALSE.\n"
   ]
  },
  {
   "cell_type": "code",
   "execution_count": 10,
   "metadata": {},
   "outputs": [
    {
     "data": {
      "text/plain": [
       "True"
      ]
     },
     "execution_count": 10,
     "metadata": {},
     "output_type": "execute_result"
    }
   ],
   "source": [
    "male_age = 22\n",
    "female_age = 18\n",
    "female_age >= 21 or male_age >= 21"
   ]
  },
  {
   "cell_type": "markdown",
   "metadata": {},
   "source": [
    "### Using OR to check multiple conditions\n",
    "The keyword OR allows you to check multiples conditions as well, but it passes when either or both of the individual tests pass. An OR expression fails only when both individual tests fail.\n"
   ]
  },
  {
   "cell_type": "code",
   "execution_count": 29,
   "metadata": {},
   "outputs": [
    {
     "data": {
      "text/plain": [
       "True"
      ]
     },
     "execution_count": 29,
     "metadata": {},
     "output_type": "execute_result"
    }
   ],
   "source": [
    "male_age = 22\n",
    "female_age = 18\n",
    "male_age >= 21 or female_age >= 21"
   ]
  },
  {
   "cell_type": "markdown",
   "metadata": {},
   "source": [
    "## Boolean Expressions\n",
    "As you learn more about programming, you’ll hear the term Boolean Expression at some point. A Boolean expression is just another name for a conditional test. A Boolean Value is either TRUE or FALSE, just like the value of a conditional expression after it has been evaluated.\n"
   ]
  },
  {
   "cell_type": "code",
   "execution_count": 30,
   "metadata": {},
   "outputs": [],
   "source": [
    "ust_will_make_it_to_finals = True\n",
    "feu_defeated_ust = False"
   ]
  },
  {
   "cell_type": "markdown",
   "metadata": {},
   "source": [
    "## If-else Statements\n",
    "Often, you’ll want to take one action when a conditional test passes and a different action in all other cases. An if-else block is similar to a simple IF statement, but the ELSE statement allows you to define an action or set of actions that are executed when the conditional test fails.\n"
   ]
  },
  {
   "cell_type": "code",
   "execution_count": 12,
   "metadata": {},
   "outputs": [
    {
     "name": "stdout",
     "output_type": "stream",
     "text": [
      "You are old enough to vote!\n"
     ]
    }
   ],
   "source": [
    "age = 170\n",
    "\n",
    "if age >= 18:\n",
    "\tprint(\"You are old enough to vote!\")\n",
    "else:\n",
    "\tprint(\"Sorry, you are too young to vote.\")\n"
   ]
  },
  {
   "cell_type": "markdown",
   "metadata": {},
   "source": [
    "## If-Elif-Else\n",
    "Often, you’ll need to test more than two possible situations, and to evaluate these you can use if-elif-else chain. It runs each conditional test in order until one passes. When a test passes, the code following that test is executed and skips the rests of the tests.\n"
   ]
  },
  {
   "cell_type": "code",
   "execution_count": 16,
   "metadata": {},
   "outputs": [
    {
     "name": "stdout",
     "output_type": "stream",
     "text": [
      "Your admission cost is $40\n"
     ]
    }
   ],
   "source": [
    "age = 99\n",
    "\n",
    "if age < 4 :\n",
    "\tprice = 0\n",
    "elif age < 18 :\n",
    "\tprice = 25\n",
    "else :\n",
    "    price = 40\n",
    "\n",
    "print(f\"Your admission cost is ${price}\")"
   ]
  },
  {
   "cell_type": "code",
   "execution_count": null,
   "metadata": {},
   "outputs": [],
   "source": []
  }
 ],
 "metadata": {
  "kernelspec": {
   "display_name": "Python 3",
   "language": "python",
   "name": "python3"
  },
  "language_info": {
   "codemirror_mode": {
    "name": "ipython",
    "version": 3
   },
   "file_extension": ".py",
   "mimetype": "text/x-python",
   "name": "python",
   "nbconvert_exporter": "python",
   "pygments_lexer": "ipython3",
   "version": "3.7.3"
  }
 },
 "nbformat": 4,
 "nbformat_minor": 2
}
