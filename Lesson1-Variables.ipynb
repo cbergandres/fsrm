{
 "cells": [
  {
   "cell_type": "markdown",
   "metadata": {},
   "source": [
    "# Lesson 1 : Variables and Simple Data Types"
   ]
  },
  {
   "cell_type": "markdown",
   "metadata": {},
   "source": [
    "## PRINT Command"
   ]
  },
  {
   "cell_type": "code",
   "execution_count": 25,
   "metadata": {},
   "outputs": [
    {
     "name": "stdout",
     "output_type": "stream",
     "text": [
      "Hello world!\n",
      "Hello world!\n",
      "31\n"
     ]
    }
   ],
   "source": [
    "print(\"Hello world!\") \n",
    "print('Hello world!') \n",
    "print(31)"
   ]
  },
  {
   "cell_type": "markdown",
   "metadata": {},
   "source": [
    "## Variables"
   ]
  },
  {
   "cell_type": "markdown",
   "metadata": {},
   "source": [
    "In Python, you can use a letter or a set of words as a variable where you can store a data. If you want to use a set of words as variable, best practice is you can use underscore to separate each. For example, first_name, last_name etc. An equal sign (=) should be used when assigning data to a variable. If you will assign a string to a variable, it should be enclosed with a single or a double quotation mark. For numbers, no quotation marks are necessary."
   ]
  },
  {
   "cell_type": "code",
   "execution_count": 26,
   "metadata": {},
   "outputs": [],
   "source": [
    "first_name = \"Rosa\"\n",
    "last_name = \"Diaz\"\n",
    "age = 31"
   ]
  },
  {
   "cell_type": "markdown",
   "metadata": {},
   "source": [
    "To check the value assigned with the variable. You can use the print() function and insert the variable name inside the parenthesis."
   ]
  },
  {
   "cell_type": "code",
   "execution_count": 27,
   "metadata": {
    "scrolled": true
   },
   "outputs": [
    {
     "name": "stdout",
     "output_type": "stream",
     "text": [
      "Rosa\n",
      "Diaz\n",
      "31\n"
     ]
    }
   ],
   "source": [
    "print(first_name)\n",
    "print(last_name)\n",
    "print(age)"
   ]
  },
  {
   "cell_type": "markdown",
   "metadata": {},
   "source": [
    "## Changing Case in a String with Methods\n",
    "\n",
    "In Python, you can change the case of the words in a string. You can use the method title(), upper() and lower(). "
   ]
  },
  {
   "cell_type": "code",
   "execution_count": 28,
   "metadata": {
    "scrolled": true
   },
   "outputs": [
    {
     "name": "stdout",
     "output_type": "stream",
     "text": [
      "Amy Santiago\n",
      "amy santiago\n",
      "AMY SANTIAGO\n"
     ]
    }
   ],
   "source": [
    "name = \"Amy Santiago\"\n",
    "\n",
    "print(name.title())\n",
    "print(name.lower())\n",
    "print(name.upper())\n"
   ]
  },
  {
   "cell_type": "markdown",
   "metadata": {},
   "source": [
    "## Using Variables in Strings\n",
    "\n",
    "Sometimes, you want to display two variables together to display them in a single line. For example, combining first name and last name. The most efficient way to do that is to use f-strings.\n"
   ]
  },
  {
   "cell_type": "code",
   "execution_count": 29,
   "metadata": {},
   "outputs": [
    {
     "name": "stdout",
     "output_type": "stream",
     "text": [
      "Jake Peralta\n"
     ]
    }
   ],
   "source": [
    "first_name = \"Jake\"\n",
    "last_name = \"Peralta\"\n",
    "full_name = f\"{first_name} {last_name}\"\n",
    "print(full_name)"
   ]
  },
  {
   "cell_type": "markdown",
   "metadata": {},
   "source": [
    "### EXERCISE NUMBER 1\n",
    "\n",
    "1. Assign \"mickey\" to the variable first_name\n",
    "2. Assign \"mouse\" to the variable last_name\n",
    "3. Assign together using f-string the first_name and last_name to the variable full_name\n",
    "3. Using methods, print full_name with proper capitalization"
   ]
  },
  {
   "cell_type": "markdown",
   "metadata": {},
   "source": [
    "## Numbers\n",
    "Python treats numbers in several different ways, depending on how they’re being used. \n",
    "\n",
    "### Integers\n",
    "You can add, subtract, multiply, divide. integers in Python. You can also do exponents using two multiplication symbolds. Python also supports PEMDAS.\n",
    "\n",
    "### Floats\n",
    "Python calls any number with a decimal point a float. \n",
    "\n",
    "### Integers and Floats\n",
    "When you divide any two numbers, even if they are integers that result in a whole number, it will always return a float. If you mix an integer and a float, you’ll get a float as well.\n",
    "\n",
    "### Modulo operator\n",
    "A useful tool for working with numerical information is the modulo operator (%), which divides one number by another number and returns the remainder:\n"
   ]
  },
  {
   "cell_type": "code",
   "execution_count": 30,
   "metadata": {},
   "outputs": [
    {
     "data": {
      "text/plain": [
       "120"
      ]
     },
     "execution_count": 30,
     "metadata": {},
     "output_type": "execute_result"
    }
   ],
   "source": [
    "100 + 20"
   ]
  },
  {
   "cell_type": "code",
   "execution_count": 31,
   "metadata": {},
   "outputs": [
    {
     "data": {
      "text/plain": [
       "80"
      ]
     },
     "execution_count": 31,
     "metadata": {},
     "output_type": "execute_result"
    }
   ],
   "source": [
    "100 - 20"
   ]
  },
  {
   "cell_type": "code",
   "execution_count": 32,
   "metadata": {},
   "outputs": [
    {
     "data": {
      "text/plain": [
       "2000"
      ]
     },
     "execution_count": 32,
     "metadata": {},
     "output_type": "execute_result"
    }
   ],
   "source": [
    "100 * 20"
   ]
  },
  {
   "cell_type": "code",
   "execution_count": 33,
   "metadata": {},
   "outputs": [
    {
     "data": {
      "text/plain": [
       "5.0"
      ]
     },
     "execution_count": 33,
     "metadata": {},
     "output_type": "execute_result"
    }
   ],
   "source": [
    "100 / 20"
   ]
  },
  {
   "cell_type": "code",
   "execution_count": 34,
   "metadata": {},
   "outputs": [
    {
     "data": {
      "text/plain": [
       "1"
      ]
     },
     "execution_count": 34,
     "metadata": {},
     "output_type": "execute_result"
    }
   ],
   "source": [
    "5 % 2"
   ]
  },
  {
   "cell_type": "markdown",
   "metadata": {},
   "source": [
    "## Multiple Assignment\n",
    "You can assign values to more than one variable using just a single line. \n"
   ]
  },
  {
   "cell_type": "code",
   "execution_count": 35,
   "metadata": {},
   "outputs": [
    {
     "name": "stdout",
     "output_type": "stream",
     "text": [
      "1\n",
      "4\n",
      "3\n"
     ]
    }
   ],
   "source": [
    "x, y, z = 1, 4, 3\n",
    "print(x)\n",
    "print(y)\n",
    "print(z)"
   ]
  }
 ],
 "metadata": {
  "kernelspec": {
   "display_name": "Python 3",
   "language": "python",
   "name": "python3"
  },
  "language_info": {
   "codemirror_mode": {
    "name": "ipython",
    "version": 3
   },
   "file_extension": ".py",
   "mimetype": "text/x-python",
   "name": "python",
   "nbconvert_exporter": "python",
   "pygments_lexer": "ipython3",
   "version": "3.7.3"
  }
 },
 "nbformat": 4,
 "nbformat_minor": 2
}
