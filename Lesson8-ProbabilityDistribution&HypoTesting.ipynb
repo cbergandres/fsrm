{
 "cells": [
  {
   "cell_type": "markdown",
   "metadata": {},
   "source": [
    "# Lesson 8 : Probability Distribution and Hypothesis Testing"
   ]
  },
  {
   "attachments": {},
   "cell_type": "markdown",
   "metadata": {},
   "source": [
    "## Review on Probability Distribution\n",
    "\n",
    "### Discrete and Continuous Probability Distributions\n",
    "1. A probability distribution gives the probabilities of all possible outcomes for a random variable\n",
    "2. A discrete distribution has a finite number of possible outcomes\n",
    "3. A continuous distribution has an infinite number of possible outcomes\n",
    "\n",
    "### Probability Functions\n",
    "1. The number of days next week on which it will rain is a discrete random variable that can take on the values {0,1,2,3,4,5,6,7}\n",
    "2. The amount of rain that will fall next week is a continuous random variable\n",
    "3. A probability function, p(x), gives the probability that a discrete random variable will take on the value x\n",
    "\t[e.g., p(x) = x / 15 for X = {1,2,3,4,5} → p(3) = 20%]\n",
    "    \n",
    "### Cumulative Distribution Function\n",
    "1. A cumulative distribution function (cdf), F(x), gives the probability that a random variable will be less than or equal to a given value.\n",
    "2. For the probability function: p(x) = x / 15 for X = {1,2,3,4,5}\n",
    "                                     F(3) = 1 / 15 + 2 / 15 + 3 / 15 = 6 / 15 = 40%\n",
    "\n",
    "\n",
    "### CDF for a Continuous Distribution!\n",
    "Example: The %ROE, x, for a firm is defined over (–20, +30) and has a CDF of F(x) = (x + 20) / 50.  What is the probability that the ROE will be positive and less than or equal to 15?\n",
    "\n",
    "    Prob (0 ≤ x < 15) = F(15) – F(0)\n",
    "    Prob (x ≤ 15) = F(15) = (15 + 20) / 50 = 70%\n",
    "    Prob (x ≤ 0) = F(0) = 20 / 50 = 40%\n",
    "    70 – 40 = 30%\n",
    "\n",
    "\n",
    "### Discrete Uniform\n",
    "A discrete uniform distribution has a finite number of possible outcomes, all of which are equally likely \n",
    "\n",
    "\tFor example, p(x) = 0.2 for X = {1,2,3,4,5}\n",
    "\tp(2) = 20%  \n",
    "\tF(3) = 60%  \n",
    "\tProb(2  ≤  X  ≤  4) = 60%\n",
    "\n",
    "\n",
    "### Binomial Random Variable\n",
    "The probability of exactly x successes in n trials, given just two possible outcomes (success and failure)\n",
    "Probability of success on each trial (p) is constant, and trials are independent\n",
    "\n",
    "Binomial – Example\n",
    "What is the probability of drawing exactly two white marbles from a bowl of white and black marbles in six tries if the probability of selecting white is 0.4 each time? \n",
    "\n",
    "### Continuous Uniform Distribution\n",
    "\n",
    "Probability distributed evenly over an interval\n",
    "Example: Random variable is continuous uniform over the interval 2 to 10.\n",
    "\n",
    "P(X < 2) = 0     P(X > 10) = 0\n",
    "\n",
    "P(3 ≤ X ≤ 5) = (5 – 3) / (10 – 2) = 2 / 8 = 25%\n",
    "\n",
    "### Properties of Normal Distribution\n",
    "1. Completely described by mean and variance\n",
    "2. Symmetric about the mean (skewness = 0)\n",
    "3. Kurtosis (a measure of peakedness) = 3\n",
    "4. Linear combination of normally distributed random variables is also normally distributed\n",
    "5. Probabilities decrease further from the mean, but the tails go on forever\n",
    "\n",
    "Multivariate normal: more than one random variable, need means, variances, and correlation coefficients\n",
    "\n",
    "### Confidence Interval: Normal Distribution\n",
    "Confidence interval: A range of values around an expected outcome. A random variable is expected to be in this range a certain percentage of the time.\n"
   ]
  },
  {
   "cell_type": "code",
   "execution_count": 1,
   "metadata": {},
   "outputs": [
    {
     "ename": "SyntaxError",
     "evalue": "invalid syntax (<ipython-input-1-f16c83fec72e>, line 1)",
     "output_type": "error",
     "traceback": [
      "\u001b[1;36m  File \u001b[1;32m\"<ipython-input-1-f16c83fec72e>\"\u001b[1;36m, line \u001b[1;32m1\u001b[0m\n\u001b[1;33m    Normal distribution graph\u001b[0m\n\u001b[1;37m                      ^\u001b[0m\n\u001b[1;31mSyntaxError\u001b[0m\u001b[1;31m:\u001b[0m invalid syntax\n"
     ]
    }
   ],
   "source": [
    "Normal distribution graph"
   ]
  },
  {
   "cell_type": "code",
   "execution_count": null,
   "metadata": {},
   "outputs": [],
   "source": []
  }
 ],
 "metadata": {
  "kernelspec": {
   "display_name": "Python 3",
   "language": "python",
   "name": "python3"
  },
  "language_info": {
   "codemirror_mode": {
    "name": "ipython",
    "version": 3
   },
   "file_extension": ".py",
   "mimetype": "text/x-python",
   "name": "python",
   "nbconvert_exporter": "python",
   "pygments_lexer": "ipython3",
   "version": "3.7.3"
  }
 },
 "nbformat": 4,
 "nbformat_minor": 2
}
