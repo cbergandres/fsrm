{
 "cells": [
  {
   "cell_type": "markdown",
   "metadata": {},
   "source": [
    "# Lesson 5 : Introducing Lists"
   ]
  },
  {
   "cell_type": "markdown",
   "metadata": {},
   "source": [
    "# What is a list?"
   ]
  },
  {
   "cell_type": "markdown",
   "metadata": {},
   "source": [
    "It is a collection of items in a particular order. It may include digits, names etc. Best practice is when assigning a list use a plural names like letters, digits or names. In Python, square brackers [] indicates a list, and individual items in the list are separated by commas."
   ]
  },
  {
   "cell_type": "code",
   "execution_count": 1,
   "metadata": {},
   "outputs": [
    {
     "name": "stdout",
     "output_type": "stream",
     "text": [
      "['Apple', 'Huawei', 'Samsung', 'Xiaomi']\n"
     ]
    }
   ],
   "source": [
    "phones = ['Apple','Huawei', 'Samsung', 'Xiaomi']\n",
    "print(phones)"
   ]
  },
  {
   "cell_type": "markdown",
   "metadata": {},
   "source": [
    "## Accessing elements in a list"
   ]
  },
  {
   "cell_type": "markdown",
   "metadata": {},
   "source": [
    "Lists are ordered collections, you can access any element in a list by telling Python the position or index of the item desired. To access it, write the name of the list followed by the index of the item enclosed in square brackets."
   ]
  },
  {
   "cell_type": "code",
   "execution_count": 2,
   "metadata": {},
   "outputs": [
    {
     "name": "stdout",
     "output_type": "stream",
     "text": [
      "Apple\n"
     ]
    }
   ],
   "source": [
    "phones = ['Apple', 'Huawei', 'Samsung', 'Xiaomi']\n",
    "print(phones[0])"
   ]
  },
  {
   "cell_type": "code",
   "execution_count": 7,
   "metadata": {},
   "outputs": [
    {
     "name": "stdout",
     "output_type": "stream",
     "text": [
      "APPLE\n"
     ]
    }
   ],
   "source": [
    "phones = ['Apple', 'Huawei', 'Samsung', 'Xiaomi']\n",
    "print(phones[0].upper())"
   ]
  },
  {
   "cell_type": "code",
   "execution_count": 8,
   "metadata": {},
   "outputs": [
    {
     "name": "stdout",
     "output_type": "stream",
     "text": [
      "Xiaomi\n"
     ]
    }
   ],
   "source": [
    "phones = ['Apple', 'Huawei', 'Samsung', 'Xiaomi']\n",
    "print(phones[-1])"
   ]
  },
  {
   "cell_type": "markdown",
   "metadata": {},
   "source": [
    "## Using individual values from a list"
   ]
  },
  {
   "cell_type": "markdown",
   "metadata": {},
   "source": [
    "Treat it similarly with variables just call the list then identify which position are you calling."
   ]
  },
  {
   "cell_type": "code",
   "execution_count": 10,
   "metadata": {},
   "outputs": [
    {
     "name": "stdout",
     "output_type": "stream",
     "text": [
      "My first cellphone was a Samsung.\n"
     ]
    }
   ],
   "source": [
    "phones = ['Apple', 'Huawei', 'Samsung', 'Xiaomi']\n",
    "message = f\"My first cellphone was a {phones[2]}.\"\n",
    "print(message)"
   ]
  },
  {
   "cell_type": "markdown",
   "metadata": {},
   "source": [
    "## Changing, Adding and Removing elements\n",
    "\n",
    "You may need to change, add or remove items from your list.\n",
    "\n",
    "### Modifying elements in a list\n",
    "You can modify the elements in a list by using the same approach in a variable."
   ]
  },
  {
   "cell_type": "code",
   "execution_count": 25,
   "metadata": {},
   "outputs": [
    {
     "name": "stdout",
     "output_type": "stream",
     "text": [
      "['Australia', 'Brazil', 'China', 'Denmark', 'Egypt']\n"
     ]
    }
   ],
   "source": [
    "countries = ['Africa', 'Brazil', 'China', 'Denmark', 'Egypt']\n",
    "\n",
    "countries[0] = 'Australia'\n",
    "print(countries)"
   ]
  },
  {
   "cell_type": "markdown",
   "metadata": {},
   "source": [
    "### Adding elements to a list\n",
    "To add an element to a list, use the append() method. Append command adds the element at the end of the list."
   ]
  },
  {
   "cell_type": "code",
   "execution_count": 29,
   "metadata": {},
   "outputs": [
    {
     "name": "stdout",
     "output_type": "stream",
     "text": [
      "['Africa', 'Brazil', 'China', 'Denmark', 'Egypt', 'France']\n"
     ]
    }
   ],
   "source": [
    "countries = ['Africa', 'Brazil', 'China', 'Denmark', 'Egypt']\n",
    "countries.append(\"France\")\n",
    "print(countries)"
   ]
  },
  {
   "cell_type": "markdown",
   "metadata": {},
   "source": [
    "### Insert elements to a list\n",
    "To insert an element, use the insert() method. The insert method contains two attributes, first is the index where you want to put the new element and the second one is the element itself"
   ]
  },
  {
   "cell_type": "code",
   "execution_count": 30,
   "metadata": {
    "scrolled": true
   },
   "outputs": [
    {
     "name": "stdout",
     "output_type": "stream",
     "text": [
      "['Africa', 'Australia', 'Brazil', 'China', 'Denmark', 'Egypt']\n"
     ]
    }
   ],
   "source": [
    "countries = ['Africa', 'Brazil', 'China', 'Denmark', 'Egypt']\n",
    "countries.insert(1,'Australia')\n",
    "print(countries)"
   ]
  },
  {
   "cell_type": "markdown",
   "metadata": {},
   "source": [
    "### Removing elements to a list\n",
    "There are several methods of removing an element from a list but we will be using the remove() method."
   ]
  },
  {
   "cell_type": "code",
   "execution_count": 31,
   "metadata": {
    "scrolled": true
   },
   "outputs": [
    {
     "name": "stdout",
     "output_type": "stream",
     "text": [
      "['Africa', 'China', 'Denmark', 'Egypt']\n"
     ]
    }
   ],
   "source": [
    "countries = ['Africa', 'Brazil', 'China', 'Denmark', 'Egypt']\n",
    "countries.remove(\"Brazil\")\n",
    "print(countries)"
   ]
  },
  {
   "cell_type": "markdown",
   "metadata": {},
   "source": [
    "### Finding the length of the list\n",
    "\n",
    "If you are curious about the number of items in the list, you can use the len() function."
   ]
  },
  {
   "cell_type": "code",
   "execution_count": 26,
   "metadata": {},
   "outputs": [
    {
     "data": {
      "text/plain": [
       "5"
      ]
     },
     "execution_count": 26,
     "metadata": {},
     "output_type": "execute_result"
    }
   ],
   "source": [
    "countries = ['Africa', 'Brazil', 'China', 'Denmark', 'Egypt']\n",
    "len(countries)"
   ]
  },
  {
   "cell_type": "markdown",
   "metadata": {},
   "source": [
    "## Slicing a list"
   ]
  },
  {
   "cell_type": "markdown",
   "metadata": {},
   "source": [
    "To make a slice, you specific the index of the first and last elements you want to work with. Python stops one item before the second index you specify. "
   ]
  },
  {
   "cell_type": "code",
   "execution_count": 11,
   "metadata": {},
   "outputs": [
    {
     "name": "stdout",
     "output_type": "stream",
     "text": [
      "['Africa', 'Brazil', 'China']\n"
     ]
    }
   ],
   "source": [
    "countries = ['Africa', 'Brazil', 'China', 'Denmark', 'Egypt']\n",
    "print(countries[0:3])"
   ]
  },
  {
   "cell_type": "code",
   "execution_count": 12,
   "metadata": {},
   "outputs": [
    {
     "name": "stdout",
     "output_type": "stream",
     "text": [
      "['China']\n"
     ]
    }
   ],
   "source": [
    "countries = ['Africa', 'Brazil', 'China', 'Denmark', 'Egypt']\n",
    "print(countries[2:3])"
   ]
  },
  {
   "cell_type": "code",
   "execution_count": 13,
   "metadata": {},
   "outputs": [
    {
     "name": "stdout",
     "output_type": "stream",
     "text": [
      "['China', 'Denmark', 'Egypt']\n"
     ]
    }
   ],
   "source": [
    "countries = ['Africa', 'Brazil', 'China', 'Denmark', 'Egypt']\n",
    "print(countries[2:])"
   ]
  },
  {
   "cell_type": "code",
   "execution_count": 14,
   "metadata": {},
   "outputs": [
    {
     "name": "stdout",
     "output_type": "stream",
     "text": [
      "['Africa', 'Brazil']\n"
     ]
    }
   ],
   "source": [
    "countries = ['Africa', 'Brazil', 'China', 'Denmark', 'Egypt']\n",
    "print(countries[0:2])"
   ]
  },
  {
   "cell_type": "markdown",
   "metadata": {},
   "source": [
    "## FOR-IN "
   ]
  },
  {
   "cell_type": "markdown",
   "metadata": {},
   "source": [
    "If you are not sure with the number specific items in the list and you want to list all of them, you can use the FOR-IN syntax."
   ]
  },
  {
   "cell_type": "code",
   "execution_count": 18,
   "metadata": {},
   "outputs": [
    {
     "name": "stdout",
     "output_type": "stream",
     "text": [
      "I want to go to Africa\n",
      "I want to go to Brazil\n",
      "I want to go to China\n",
      "I want to go to Denmark\n",
      "I want to go to Egypt\n"
     ]
    }
   ],
   "source": [
    "countries = ['Africa', 'Brazil', 'China', 'Denmark', 'Egypt']\n",
    "for country in countries:\n",
    "    print(f\"I want to go to {country}\")"
   ]
  },
  {
   "cell_type": "markdown",
   "metadata": {},
   "source": [
    "## Using the range() function\n",
    "The range() function makes it easy to generate a series of numbers."
   ]
  },
  {
   "cell_type": "code",
   "execution_count": 19,
   "metadata": {},
   "outputs": [
    {
     "name": "stdout",
     "output_type": "stream",
     "text": [
      "1\n",
      "2\n",
      "3\n",
      "4\n"
     ]
    }
   ],
   "source": [
    "for numero in range(1,5):\n",
    "    print(numero)"
   ]
  },
  {
   "cell_type": "markdown",
   "metadata": {},
   "source": [
    "### Using range() to make a list of numbers\n",
    "If you want to make a list of numbers, you can convert the results of range() directly into a list using the list() function. When you wrap list() around a call to the range() function, the output will be a list of numbers."
   ]
  },
  {
   "cell_type": "code",
   "execution_count": 20,
   "metadata": {},
   "outputs": [
    {
     "name": "stdout",
     "output_type": "stream",
     "text": [
      "[1, 2, 3, 4, 5]\n"
     ]
    }
   ],
   "source": [
    "numero = list(range(1,6))\n",
    "print(numero)"
   ]
  },
  {
   "cell_type": "code",
   "execution_count": 23,
   "metadata": {},
   "outputs": [
    {
     "name": "stdout",
     "output_type": "stream",
     "text": [
      "[2, 4, 6, 8, 10]\n"
     ]
    }
   ],
   "source": [
    "even_numbers = list(range(2,11,2))\n",
    "print(even_numbers)"
   ]
  },
  {
   "cell_type": "markdown",
   "metadata": {},
   "source": [
    "### EXERCISE NUMBER XX\n",
    "\n",
    "1. Create a program that print the square of each number from 1 to 10."
   ]
  },
  {
   "cell_type": "code",
   "execution_count": null,
   "metadata": {},
   "outputs": [],
   "source": []
  }
 ],
 "metadata": {
  "kernelspec": {
   "display_name": "Python 3",
   "language": "python",
   "name": "python3"
  },
  "language_info": {
   "codemirror_mode": {
    "name": "ipython",
    "version": 3
   },
   "file_extension": ".py",
   "mimetype": "text/x-python",
   "name": "python",
   "nbconvert_exporter": "python",
   "pygments_lexer": "ipython3",
   "version": "3.7.3"
  }
 },
 "nbformat": 4,
 "nbformat_minor": 2
}
