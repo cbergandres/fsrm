{
 "cells": [
  {
   "cell_type": "code",
   "execution_count": null,
   "metadata": {},
   "outputs": [],
   "source": [
    "# -*- coding: utf-8 -*-\n",
    "\"\"\"\n",
    "Created on Fri Sep 20 13:45:30 2019\n",
    "\n",
    "@author: VZ589XA\n",
    "\"\"\"\n",
    "\n",
    "\n",
    "import numpy as np\n",
    "import pandas as pd\n",
    "import matplotlib.pyplot as plt\n",
    "import seaborn\n",
    "import matplotlib.mlab as mlab\n",
    "\n",
    "from scipy.stats import norm\n",
    "\n",
    "import quandl\n",
    "\n",
    "from tabulate import tabulate\n",
    "\n",
    "user_name = input(\"Enter your first name: \")\n",
    "print(f'\\nHi! {user_name.title()}, welcome to SGV Value at Risk Calculator!') \n",
    "\n",
    "company_name = input(\"Enter Stock Symbol: \")\n",
    "company_name = (company_name.upper())\n",
    "beg = input(\"Input Start Date (20XX-01-31): \")\n",
    "end = input(\"Input End Date (20XX-12-31): \")\n",
    "ticker = \"WIKI/\"+ company_name\n",
    "\n",
    "df = quandl.get(ticker, start_date = beg, end_date = end)\n",
    "df = df[['Close']]\n",
    "df['returns'] = df.Close.pct_change()\n",
    "\n",
    "mean = np.mean(df['returns'])\n",
    "std_dev = np.std(df['returns'])\n",
    "\n",
    "df['returns'].hist(bins=40, normed= True, histtype = 'stepfilled', alpha=0.5)\n",
    "x = np.linspace(mean - 3*std_dev, mean + 3*std_dev, 100)\n",
    "plt.plot(x, norm.pdf(x,mean,std_dev),\"r\")\n",
    "print(plt.show())\n",
    "\n",
    "VaR_90 = norm.ppf(1-0.9, mean, std_dev)\n",
    "VaR_95 = norm.ppf(1-0.95,mean,std_dev)\n",
    "VaR_99 = norm.ppf(1-0.99,mean,std_dev)\n",
    "\n",
    "print(tabulate([['90%', VaR_90],['95%', VaR_95],['99%', VaR_99]]))"
   ]
  },
  {
   "cell_type": "code",
   "execution_count": null,
   "metadata": {},
   "outputs": [],
   "source": []
  }
 ],
 "metadata": {
  "kernelspec": {
   "display_name": "Python 3",
   "language": "python",
   "name": "python3"
  },
  "language_info": {
   "codemirror_mode": {
    "name": "ipython",
    "version": 3
   },
   "file_extension": ".py",
   "mimetype": "text/x-python",
   "name": "python",
   "nbconvert_exporter": "python",
   "pygments_lexer": "ipython3",
   "version": "3.7.3"
  }
 },
 "nbformat": 4,
 "nbformat_minor": 2
}
